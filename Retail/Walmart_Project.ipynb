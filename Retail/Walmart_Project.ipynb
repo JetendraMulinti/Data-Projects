{
 "cells": [
  {
   "cell_type": "markdown",
   "id": "e850dece-e94a-4069-8273-1c2729b66234",
   "metadata": {},
   "source": [
    "Black Friday Purchases\n",
    "\n",
    "Download Datasets\n",
    "This data project has been used as a take-home assignment in the recruitment process for the data science positions at Walmart.\n",
    "\n",
    "Assignment\n",
    "The Management team at Walmart Inc. wants to analyze the customer purchase behavior (specifically, purchase amount) against the customer’s gender and the various other factors to help the business make better decisions. They want to understand if the spending habits differ between male and female customers: Do women spend more on Black Friday than men?\n",
    "\n",
    "Data Description\n",
    "The company collected the transactional data of customers who purchased products from Walmart Stores during Black Friday. The dataset in walmart_data.csv has the following features:\n",
    "\n",
    "1. User_ID\n",
    "2. Product_ID\n",
    "3. Gender - sex of a customer\n",
    "4. Age - age in bins\n",
    "5. Occupation (masked)\n",
    "6. City_Category - category of the city [A, B, C]\n",
    "7. Stay_In_Current_City_Years: number of years a customer stays in their current city\n",
    "8. Marital_Status\n",
    "9. Product_Category (masked)\n",
    "10. Purchase - purchase amount\n",
    "\n",
    "Practicalities\n",
    "For simplicity, you may assume that 50% of Walmart`s customer base are Male and the other 50% are Female.\n",
    "\n",
    "Analyze the provided data and provide insights to the best of your abilities. Include the relevant tables/graphs/visualization to explain what you have learned about the market. Make sure that the solution reflects your entire thought process including the preparation of data - it is more important how the code is structured rather than just the final result or plot."
   ]
  },
  {
   "cell_type": "code",
   "execution_count": null,
   "id": "5c5c1274-b88d-42d5-baf0-180467663ab8",
   "metadata": {},
   "outputs": [],
   "source": []
  }
 ],
 "metadata": {
  "kernelspec": {
   "display_name": "Python 3 (ipykernel)",
   "language": "python",
   "name": "python3"
  },
  "language_info": {
   "codemirror_mode": {
    "name": "ipython",
    "version": 3
   },
   "file_extension": ".py",
   "mimetype": "text/x-python",
   "name": "python",
   "nbconvert_exporter": "python",
   "pygments_lexer": "ipython3",
   "version": "3.8.19"
  }
 },
 "nbformat": 4,
 "nbformat_minor": 5
}
